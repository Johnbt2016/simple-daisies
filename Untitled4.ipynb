{
 "cells": [
  {
   "cell_type": "code",
   "execution_count": 1,
   "id": "8f9e185a",
   "metadata": {},
   "outputs": [],
   "source": [
    "import pydaisi as pyd"
   ]
  },
  {
   "cell_type": "code",
   "execution_count": 2,
   "id": "bf6343bb",
   "metadata": {},
   "outputs": [],
   "source": [
    "class ActorExample:\n",
    "\n",
    "    def __init__(self):\n",
    "        self.param1 = 0\n",
    "        self.param2 = 0"
   ]
  },
  {
   "cell_type": "code",
   "execution_count": 4,
   "id": "2e00a7bf",
   "metadata": {},
   "outputs": [
    {
     "data": {
      "text/html": [
       "<pre style=\"white-space:pre;overflow-x:auto;line-height:normal;font-family:Menlo,'DejaVu Sans Mono',consolas,'Courier New',monospace\"><span style=\"color: #7fbfbf; text-decoration-color: #7fbfbf\">[15:51:48] </span><span style=\"color: #000080; text-decoration-color: #000080\">INFO    </span> Calling <span style=\"color: #0000ff; text-decoration-color: #0000ff; text-decoration: underline\">https://dev3.daisi.io/pebble-api/daisies/connect?n</span> <a href=\"file:///Users/laiglejm/miniforge3_v2/envs/tensorflow/lib/python3.9/site-packages/pydaisi/pydaisi.py\" target=\"_blank\"><span style=\"color: #7f7f7f; text-decoration-color: #7f7f7f\">pydaisi.py</span></a><span style=\"color: #7f7f7f; text-decoration-color: #7f7f7f\">:</span><a href=\"file:///Users/laiglejm/miniforge3_v2/envs/tensorflow/lib/python3.9/site-packages/pydaisi/pydaisi.py#314\" target=\"_blank\"><span style=\"color: #7f7f7f; text-decoration-color: #7f7f7f\">314</span></a>\n",
       "<span style=\"color: #7fbfbf; text-decoration-color: #7fbfbf\">           </span>         <span style=\"color: #0000ff; text-decoration-color: #0000ff; text-decoration: underline\">ame=Actor</span> Example                                          <span style=\"color: #7f7f7f; text-decoration-color: #7f7f7f\">              </span>\n",
       "</pre>\n"
      ],
      "text/plain": [
       "\u001b[2;36m[15:51:48]\u001b[0m\u001b[2;36m \u001b[0m\u001b[34mINFO    \u001b[0m Calling \u001b[4;94mhttps://dev3.daisi.io/pebble-api/daisies/connect?\u001b[0m\u001b[4;94mn\u001b[0m \u001b]8;id=89693;file:///Users/laiglejm/miniforge3_v2/envs/tensorflow/lib/python3.9/site-packages/pydaisi/pydaisi.py\u001b\\\u001b[2mpydaisi.py\u001b[0m\u001b]8;;\u001b\\\u001b[2m:\u001b[0m\u001b]8;id=804772;file:///Users/laiglejm/miniforge3_v2/envs/tensorflow/lib/python3.9/site-packages/pydaisi/pydaisi.py#314\u001b\\\u001b[2m314\u001b[0m\u001b]8;;\u001b\\\n",
       "\u001b[2;36m           \u001b[0m         \u001b[4;94mame\u001b[0m\u001b[4;94m=\u001b[0m\u001b[4;94mActor\u001b[0m Example                                          \u001b[2m              \u001b[0m\n"
      ]
     },
     "metadata": {},
     "output_type": "display_data"
    },
    {
     "data": {
      "text/html": [
       "<pre style=\"white-space:pre;overflow-x:auto;line-height:normal;font-family:Menlo,'DejaVu Sans Mono',consolas,'Courier New',monospace\"><span style=\"color: #7fbfbf; text-decoration-color: #7fbfbf\">[15:51:49] </span><span style=\"color: #000080; text-decoration-color: #000080\">INFO    </span> Found existing Daisi: <span style=\"color: #ffff00; text-decoration-color: #ffff00\">703105c3-3986-4140-8ad7-27c5629f8b3b</span> <a href=\"file:///Users/laiglejm/miniforge3_v2/envs/tensorflow/lib/python3.9/site-packages/pydaisi/pydaisi.py\" target=\"_blank\"><span style=\"color: #7f7f7f; text-decoration-color: #7f7f7f\">pydaisi.py</span></a><span style=\"color: #7f7f7f; text-decoration-color: #7f7f7f\">:</span><a href=\"file:///Users/laiglejm/miniforge3_v2/envs/tensorflow/lib/python3.9/site-packages/pydaisi/pydaisi.py#328\" target=\"_blank\"><span style=\"color: #7f7f7f; text-decoration-color: #7f7f7f\">328</span></a>\n",
       "</pre>\n"
      ],
      "text/plain": [
       "\u001b[2;36m[15:51:49]\u001b[0m\u001b[2;36m \u001b[0m\u001b[34mINFO    \u001b[0m Found existing Daisi: \u001b[93m703105c3-3986-4140-8ad7-27c5629f8b3b\u001b[0m \u001b]8;id=816569;file:///Users/laiglejm/miniforge3_v2/envs/tensorflow/lib/python3.9/site-packages/pydaisi/pydaisi.py\u001b\\\u001b[2mpydaisi.py\u001b[0m\u001b]8;;\u001b\\\u001b[2m:\u001b[0m\u001b]8;id=150815;file:///Users/laiglejm/miniforge3_v2/envs/tensorflow/lib/python3.9/site-packages/pydaisi/pydaisi.py#328\u001b\\\u001b[2m328\u001b[0m\u001b]8;;\u001b\\\n"
      ]
     },
     "metadata": {},
     "output_type": "display_data"
    }
   ],
   "source": [
    "actordaisi = pyd.Daisi(\"Actor Example\", base_url = \"https://dev3.daisi.io\")"
   ]
  },
  {
   "cell_type": "code",
   "execution_count": 5,
   "id": "eab825fb",
   "metadata": {},
   "outputs": [],
   "source": [
    "a = ActorExample()"
   ]
  },
  {
   "cell_type": "code",
   "execution_count": 6,
   "id": "89c37c5c",
   "metadata": {},
   "outputs": [],
   "source": [
    "for _ in range(10):\n",
    "    a = actordaisi.update_(a, param1 = 1, param2 = 2).value_id"
   ]
  },
  {
   "cell_type": "code",
   "execution_count": 8,
   "id": "340a3e58",
   "metadata": {},
   "outputs": [
    {
     "data": {
      "text/html": [
       "<pre style=\"white-space:pre;overflow-x:auto;line-height:normal;font-family:Menlo,'DejaVu Sans Mono',consolas,'Courier New',monospace\"><span style=\"color: #008080; text-decoration-color: #008080; font-weight: bold\">10</span>\n",
       "</pre>\n"
      ],
      "text/plain": [
       "\u001b[1;36m10\u001b[0m\n"
      ]
     },
     "metadata": {},
     "output_type": "display_data"
    }
   ],
   "source": [
    "actordaisi.get(a).value.param1"
   ]
  },
  {
   "cell_type": "code",
   "execution_count": 9,
   "id": "6747b827",
   "metadata": {},
   "outputs": [
    {
     "data": {
      "text/html": [
       "<pre style=\"white-space:pre;overflow-x:auto;line-height:normal;font-family:Menlo,'DejaVu Sans Mono',consolas,'Courier New',monospace\"><span style=\"color: #008080; text-decoration-color: #008080; font-weight: bold\">20</span>\n",
       "</pre>\n"
      ],
      "text/plain": [
       "\u001b[1;36m20\u001b[0m\n"
      ]
     },
     "metadata": {},
     "output_type": "display_data"
    }
   ],
   "source": [
    "actordaisi.get(a).value.param2"
   ]
  },
  {
   "cell_type": "code",
   "execution_count": 10,
   "id": "cacda40f",
   "metadata": {},
   "outputs": [
    {
     "data": {
      "text/html": [
       "<pre style=\"white-space:pre;overflow-x:auto;line-height:normal;font-family:Menlo,'DejaVu Sans Mono',consolas,'Courier New',monospace\"><span style=\"color: #008000; text-decoration-color: #008000\">'lookup:1dac382f-4fed-46eb-a0b5-3a66877f2dbd'</span>\n",
       "</pre>\n"
      ],
      "text/plain": [
       "\u001b[32m'lookup:1dac382f-4fed-46eb-a0b5-3a66877f2dbd'\u001b[0m\n"
      ]
     },
     "metadata": {},
     "output_type": "display_data"
    }
   ],
   "source": [
    "actordaisi.get_(a).value_id"
   ]
  },
  {
   "cell_type": "code",
   "execution_count": null,
   "id": "ca5c8cda",
   "metadata": {},
   "outputs": [],
   "source": []
  }
 ],
 "metadata": {
  "kernelspec": {
   "display_name": "Python 3",
   "language": "python",
   "name": "python3"
  },
  "language_info": {
   "codemirror_mode": {
    "name": "ipython",
    "version": 3
   },
   "file_extension": ".py",
   "mimetype": "text/x-python",
   "name": "python",
   "nbconvert_exporter": "python",
   "pygments_lexer": "ipython3",
   "version": "3.9.5"
  }
 },
 "nbformat": 4,
 "nbformat_minor": 5
}
