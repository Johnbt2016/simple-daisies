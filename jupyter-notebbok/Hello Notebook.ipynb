{
 "cells": [
  {
   "cell_type": "code",
   "execution_count": 1,
   "id": "cc2b287a",
   "metadata": {
    "tags": [
     "parameters"
    ]
   },
   "outputs": [],
   "source": [
    "name = \"World\""
   ]
  },
  {
   "cell_type": "code",
   "execution_count": 2,
   "id": "3c34f423",
   "metadata": {},
   "outputs": [],
   "source": [
    "greeting = \"Hello \" + name"
   ]
  },
  {
   "cell_type": "code",
   "execution_count": 3,
   "id": "b5b02128",
   "metadata": {},
   "outputs": [
    {
     "data": {
      "text/plain": [
       "'Hello World'"
      ]
     },
     "execution_count": 3,
     "metadata": {},
     "output_type": "execute_result"
    }
   ],
   "source": [
    "greeting"
   ]
  },
  {
   "cell_type": "code",
   "execution_count": 7,
   "id": "e0b61c19",
   "metadata": {},
   "outputs": [
    {
     "name": "stdout",
     "output_type": "stream",
     "text": [
      "Requirement already satisfied: scrapbook in /Users/laiglejm/miniforge3_v2/envs/tensorflow/lib/python3.9/site-packages (0.5.0)\n",
      "Requirement already satisfied: ipython in /Users/laiglejm/miniforge3_v2/envs/tensorflow/lib/python3.9/site-packages (from scrapbook) (8.0.1)\n",
      "Requirement already satisfied: pyarrow in /Users/laiglejm/miniforge3_v2/envs/tensorflow/lib/python3.9/site-packages (from scrapbook) (7.0.0)\n",
      "Requirement already satisfied: pandas in /Users/laiglejm/miniforge3_v2/envs/tensorflow/lib/python3.9/site-packages (from scrapbook) (1.4.1)\n",
      "Requirement already satisfied: jsonschema in /Users/laiglejm/miniforge3_v2/envs/tensorflow/lib/python3.9/site-packages (from scrapbook) (4.4.0)\n",
      "Requirement already satisfied: papermill in /Users/laiglejm/miniforge3_v2/envs/tensorflow/lib/python3.9/site-packages (from scrapbook) (2.3.4)\n",
      "Requirement already satisfied: setuptools>=18.5 in /Users/laiglejm/miniforge3_v2/envs/tensorflow/lib/python3.9/site-packages (from ipython->scrapbook) (59.5.0)\n",
      "Requirement already satisfied: pygments in /Users/laiglejm/miniforge3_v2/envs/tensorflow/lib/python3.9/site-packages (from ipython->scrapbook) (2.11.2)\n",
      "Requirement already satisfied: stack-data in /Users/laiglejm/miniforge3_v2/envs/tensorflow/lib/python3.9/site-packages (from ipython->scrapbook) (0.2.0)\n",
      "Requirement already satisfied: pexpect>4.3 in /Users/laiglejm/miniforge3_v2/envs/tensorflow/lib/python3.9/site-packages (from ipython->scrapbook) (4.8.0)\n",
      "Requirement already satisfied: pickleshare in /Users/laiglejm/miniforge3_v2/envs/tensorflow/lib/python3.9/site-packages (from ipython->scrapbook) (0.7.5)\n",
      "Requirement already satisfied: black in /Users/laiglejm/miniforge3_v2/envs/tensorflow/lib/python3.9/site-packages (from ipython->scrapbook) (22.1.0)\n",
      "Requirement already satisfied: backcall in /Users/laiglejm/miniforge3_v2/envs/tensorflow/lib/python3.9/site-packages (from ipython->scrapbook) (0.2.0)\n",
      "Requirement already satisfied: decorator in /Users/laiglejm/miniforge3_v2/envs/tensorflow/lib/python3.9/site-packages (from ipython->scrapbook) (5.1.1)\n",
      "Requirement already satisfied: appnope in /Users/laiglejm/miniforge3_v2/envs/tensorflow/lib/python3.9/site-packages (from ipython->scrapbook) (0.1.2)\n",
      "Requirement already satisfied: jedi>=0.16 in /Users/laiglejm/miniforge3_v2/envs/tensorflow/lib/python3.9/site-packages (from ipython->scrapbook) (0.18.1)\n",
      "Requirement already satisfied: matplotlib-inline in /Users/laiglejm/miniforge3_v2/envs/tensorflow/lib/python3.9/site-packages (from ipython->scrapbook) (0.1.3)\n",
      "Requirement already satisfied: prompt-toolkit!=3.0.0,!=3.0.1,<3.1.0,>=2.0.0 in /Users/laiglejm/miniforge3_v2/envs/tensorflow/lib/python3.9/site-packages (from ipython->scrapbook) (3.0.27)\n",
      "Requirement already satisfied: traitlets>=5 in /Users/laiglejm/miniforge3_v2/envs/tensorflow/lib/python3.9/site-packages (from ipython->scrapbook) (5.1.1)\n",
      "Requirement already satisfied: pyrsistent!=0.17.0,!=0.17.1,!=0.17.2,>=0.14.0 in /Users/laiglejm/miniforge3_v2/envs/tensorflow/lib/python3.9/site-packages (from jsonschema->scrapbook) (0.18.1)\n",
      "Requirement already satisfied: attrs>=17.4.0 in /Users/laiglejm/miniforge3_v2/envs/tensorflow/lib/python3.9/site-packages (from jsonschema->scrapbook) (21.4.0)\n",
      "Requirement already satisfied: python-dateutil>=2.8.1 in /Users/laiglejm/miniforge3_v2/envs/tensorflow/lib/python3.9/site-packages (from pandas->scrapbook) (2.8.2)\n",
      "Requirement already satisfied: pytz>=2020.1 in /Users/laiglejm/miniforge3_v2/envs/tensorflow/lib/python3.9/site-packages (from pandas->scrapbook) (2021.3)\n",
      "Requirement already satisfied: numpy>=1.20.0 in /Users/laiglejm/miniforge3_v2/envs/tensorflow/lib/python3.9/site-packages (from pandas->scrapbook) (1.21.5)\n",
      "Requirement already satisfied: requests in /Users/laiglejm/miniforge3_v2/envs/tensorflow/lib/python3.9/site-packages (from papermill->scrapbook) (2.27.1)\n",
      "Requirement already satisfied: ansiwrap in /Users/laiglejm/miniforge3_v2/envs/tensorflow/lib/python3.9/site-packages (from papermill->scrapbook) (0.8.4)\n",
      "Requirement already satisfied: tqdm>=4.32.2 in /Users/laiglejm/miniforge3_v2/envs/tensorflow/lib/python3.9/site-packages (from papermill->scrapbook) (4.63.0)\n",
      "Requirement already satisfied: nbclient>=0.2.0 in /Users/laiglejm/miniforge3_v2/envs/tensorflow/lib/python3.9/site-packages (from papermill->scrapbook) (0.5.11)\n",
      "Requirement already satisfied: tenacity in /Users/laiglejm/miniforge3_v2/envs/tensorflow/lib/python3.9/site-packages (from papermill->scrapbook) (8.0.1)\n",
      "Requirement already satisfied: pyyaml in /Users/laiglejm/miniforge3_v2/envs/tensorflow/lib/python3.9/site-packages (from papermill->scrapbook) (6.0)\n",
      "Requirement already satisfied: nbformat>=5.1.2 in /Users/laiglejm/miniforge3_v2/envs/tensorflow/lib/python3.9/site-packages (from papermill->scrapbook) (5.1.3)\n",
      "Requirement already satisfied: entrypoints in /Users/laiglejm/miniforge3_v2/envs/tensorflow/lib/python3.9/site-packages (from papermill->scrapbook) (0.4)\n",
      "Requirement already satisfied: click in /Users/laiglejm/miniforge3_v2/envs/tensorflow/lib/python3.9/site-packages (from papermill->scrapbook) (8.0.4)\n",
      "Requirement already satisfied: parso<0.9.0,>=0.8.0 in /Users/laiglejm/miniforge3_v2/envs/tensorflow/lib/python3.9/site-packages (from jedi>=0.16->ipython->scrapbook) (0.8.3)\n",
      "Requirement already satisfied: nest-asyncio in /Users/laiglejm/miniforge3_v2/envs/tensorflow/lib/python3.9/site-packages (from nbclient>=0.2.0->papermill->scrapbook) (1.5.4)\n",
      "Requirement already satisfied: jupyter-client>=6.1.5 in /Users/laiglejm/miniforge3_v2/envs/tensorflow/lib/python3.9/site-packages (from nbclient>=0.2.0->papermill->scrapbook) (7.1.2)\n",
      "Requirement already satisfied: jupyter-core in /Users/laiglejm/miniforge3_v2/envs/tensorflow/lib/python3.9/site-packages (from nbformat>=5.1.2->papermill->scrapbook) (4.9.2)\n",
      "Requirement already satisfied: ipython-genutils in /Users/laiglejm/miniforge3_v2/envs/tensorflow/lib/python3.9/site-packages (from nbformat>=5.1.2->papermill->scrapbook) (0.2.0)\n",
      "Requirement already satisfied: ptyprocess>=0.5 in /Users/laiglejm/miniforge3_v2/envs/tensorflow/lib/python3.9/site-packages (from pexpect>4.3->ipython->scrapbook) (0.7.0)\n",
      "Requirement already satisfied: wcwidth in /Users/laiglejm/miniforge3_v2/envs/tensorflow/lib/python3.9/site-packages (from prompt-toolkit!=3.0.0,!=3.0.1,<3.1.0,>=2.0.0->ipython->scrapbook) (0.2.5)\n",
      "Requirement already satisfied: six>=1.5 in /Users/laiglejm/miniforge3_v2/envs/tensorflow/lib/python3.9/site-packages (from python-dateutil>=2.8.1->pandas->scrapbook) (1.15.0)\n",
      "Requirement already satisfied: textwrap3>=0.9.2 in /Users/laiglejm/miniforge3_v2/envs/tensorflow/lib/python3.9/site-packages (from ansiwrap->papermill->scrapbook) (0.9.2)\n",
      "Requirement already satisfied: typing-extensions>=3.10.0.0 in /Users/laiglejm/miniforge3_v2/envs/tensorflow/lib/python3.9/site-packages (from black->ipython->scrapbook) (4.1.1)\n",
      "Requirement already satisfied: platformdirs>=2 in /Users/laiglejm/miniforge3_v2/envs/tensorflow/lib/python3.9/site-packages (from black->ipython->scrapbook) (2.5.1)\n",
      "Requirement already satisfied: pathspec>=0.9.0 in /Users/laiglejm/miniforge3_v2/envs/tensorflow/lib/python3.9/site-packages (from black->ipython->scrapbook) (0.9.0)\n",
      "Requirement already satisfied: tomli>=1.1.0 in /Users/laiglejm/miniforge3_v2/envs/tensorflow/lib/python3.9/site-packages (from black->ipython->scrapbook) (2.0.1)\n",
      "Requirement already satisfied: mypy-extensions>=0.4.3 in /Users/laiglejm/miniforge3_v2/envs/tensorflow/lib/python3.9/site-packages (from black->ipython->scrapbook) (0.4.3)\n",
      "Requirement already satisfied: certifi>=2017.4.17 in /Users/laiglejm/miniforge3_v2/envs/tensorflow/lib/python3.9/site-packages (from requests->papermill->scrapbook) (2021.10.8)\n",
      "Requirement already satisfied: urllib3<1.27,>=1.21.1 in /Users/laiglejm/miniforge3_v2/envs/tensorflow/lib/python3.9/site-packages (from requests->papermill->scrapbook) (1.26.8)\n",
      "Requirement already satisfied: idna<4,>=2.5 in /Users/laiglejm/miniforge3_v2/envs/tensorflow/lib/python3.9/site-packages (from requests->papermill->scrapbook) (3.3)\n",
      "Requirement already satisfied: charset-normalizer~=2.0.0 in /Users/laiglejm/miniforge3_v2/envs/tensorflow/lib/python3.9/site-packages (from requests->papermill->scrapbook) (2.0.12)\n",
      "Requirement already satisfied: executing in /Users/laiglejm/miniforge3_v2/envs/tensorflow/lib/python3.9/site-packages (from stack-data->ipython->scrapbook) (0.8.2)\n",
      "Requirement already satisfied: asttokens in /Users/laiglejm/miniforge3_v2/envs/tensorflow/lib/python3.9/site-packages (from stack-data->ipython->scrapbook) (2.0.5)\n",
      "Requirement already satisfied: pure-eval in /Users/laiglejm/miniforge3_v2/envs/tensorflow/lib/python3.9/site-packages (from stack-data->ipython->scrapbook) (0.2.2)\n",
      "Requirement already satisfied: tornado>=4.1 in /Users/laiglejm/miniforge3_v2/envs/tensorflow/lib/python3.9/site-packages (from jupyter-client>=6.1.5->nbclient>=0.2.0->papermill->scrapbook) (6.1)\n",
      "Requirement already satisfied: pyzmq>=13 in /Users/laiglejm/miniforge3_v2/envs/tensorflow/lib/python3.9/site-packages (from jupyter-client>=6.1.5->nbclient>=0.2.0->papermill->scrapbook) (22.3.0)\n"
     ]
    },
    {
     "name": "stdout",
     "output_type": "stream",
     "text": [
      "Note: you may need to restart the kernel to use updated packages.\n"
     ]
    }
   ],
   "source": [
    "pip install scrapbook"
   ]
  },
  {
   "cell_type": "code",
   "execution_count": 8,
   "id": "152a064f",
   "metadata": {
    "scrolled": true
   },
   "outputs": [
    {
     "data": {
      "application/scrapbook.scrap.text+json": {
       "data": "Hello World",
       "encoder": "text",
       "name": "greeting_results",
       "version": 1
      }
     },
     "metadata": {
      "scrapbook": {
       "data": true,
       "display": false,
       "name": "greeting_results"
      }
     },
     "output_type": "display_data"
    }
   ],
   "source": [
    "import scrapbook as sb\n",
    "sb.glue('greeting_results', greeting)"
   ]
  },
  {
   "cell_type": "code",
   "execution_count": null,
   "id": "91b479ee",
   "metadata": {},
   "outputs": [],
   "source": []
  }
 ],
 "metadata": {
  "celltoolbar": "Tags",
  "kernelspec": {
   "display_name": "Python 3",
   "language": "python",
   "name": "python3"
  },
  "language_info": {
   "codemirror_mode": {
    "name": "ipython",
    "version": 3
   },
   "file_extension": ".py",
   "mimetype": "text/x-python",
   "name": "python",
   "nbconvert_exporter": "python",
   "pygments_lexer": "ipython3",
   "version": "3.9.5"
  }
 },
 "nbformat": 4,
 "nbformat_minor": 5
}
