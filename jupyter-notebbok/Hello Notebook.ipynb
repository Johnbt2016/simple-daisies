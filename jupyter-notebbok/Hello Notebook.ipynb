{
 "cells": [
  {
   "cell_type": "code",
   "execution_count": 1,
   "id": "a2aba114",
   "metadata": {},
   "outputs": [],
   "source": [
    "name = \"World\""
   ]
  },
  {
   "cell_type": "code",
   "execution_count": 2,
   "id": "c6aae88d",
   "metadata": {},
   "outputs": [],
   "source": [
    "greeting = \"Hello \" + name"
   ]
  },
  {
   "cell_type": "code",
   "execution_count": 3,
   "id": "6d70b572",
   "metadata": {},
   "outputs": [
    {
     "data": {
      "text/plain": [
       "'Hello World'"
      ]
     },
     "execution_count": 3,
     "metadata": {},
     "output_type": "execute_result"
    }
   ],
   "source": [
    "greeting"
   ]
  },
  {
   "cell_type": "code",
   "execution_count": 5,
   "id": "be637755",
   "metadata": {},
   "outputs": [
    {
     "data": {
      "application/scrapbook.scrap.text+json": {
       "data": "Hello World",
       "encoder": "text",
       "name": "greeting_results",
       "version": 1
      }
     },
     "metadata": {
      "scrapbook": {
       "data": true,
       "display": false,
       "name": "greeting_results"
      }
     },
     "output_type": "display_data"
    }
   ],
   "source": [
    "import scrapbook as sb\n",
    "sb.glue('greeting_results', greeting)"
   ]
  },
  {
   "cell_type": "code",
   "execution_count": null,
   "id": "8cb6d30e",
   "metadata": {},
   "outputs": [],
   "source": []
  }
 ],
 "metadata": {
  "kernelspec": {
   "display_name": "Python 3",
   "language": "python",
   "name": "python3"
  },
  "language_info": {
   "codemirror_mode": {
    "name": "ipython",
    "version": 3
   },
   "file_extension": ".py",
   "mimetype": "text/x-python",
   "name": "python",
   "nbconvert_exporter": "python",
   "pygments_lexer": "ipython3",
   "version": "3.9.5"
  }
 },
 "nbformat": 4,
 "nbformat_minor": 5
}
